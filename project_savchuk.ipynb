{
 "cells": [
  {
   "attachments": {},
   "cell_type": "markdown",
   "metadata": {},
   "source": [
    "*Dodać tu wstęp i td.*\n",
    "1\n",
    "1\n",
    "1\n",
    "1\n",
    "1"
   ]
  },
  {
   "cell_type": "code",
   "execution_count": 18,
   "metadata": {},
   "outputs": [],
   "source": [
    "from pprint import pprint\n",
    "\n",
    "import os\n",
    "import re\n",
    "import time\n",
    "import emoji\n",
    "import matplotlib.pyplot as plt\n",
    "import numpy as np\n",
    "import pandas as pd\n",
    "import seaborn as sns\n",
    "import scipy.stats as ss\n",
    "import sklearn\n",
    "from keras_preprocessing.sequence import pad_sequences\n",
    "from keras_preprocessing.text import Tokenizer\n",
    "from sklearn.base import TransformerMixin, BaseEstimator\n",
    "from sklearn.ensemble import RandomForestClassifier\n",
    "from sklearn.feature_extraction.text import CountVectorizer\n",
    "from sklearn.metrics import confusion_matrix, accuracy_score, classification_report\n",
    "from sklearn.model_selection import cross_val_score, RandomizedSearchCV, GridSearchCV\n",
    "from sklearn.neighbors import KNeighborsClassifier\n",
    "from sklearn.pipeline import Pipeline\n",
    "from sklearn.svm import LinearSVC\n",
    "from sklearn.utils.validation import check_is_fitted\n",
    "\n",
    "random_state = 123\n"
   ]
  },
  {
   "cell_type": "code",
   "execution_count": 19,
   "metadata": {},
   "outputs": [
    {
     "name": "stdout",
     "output_type": "stream",
     "text": [
      "['Just got back from seeing @GaryDelaney in Burslem. AMAZING!! Face still hurts from laughing so much #hilarious'\n",
      " \"Oh dear an evening of absolute hilarity I don't think I have laughed so much in a long time! 😂\"\n",
      " 'Been waiting all week for this game ❤️❤️❤️ #cheer #friday ❤️' ...\n",
      " \"@SilkInSide @TommyJoeRatliff that's so pretty! I love the sky in the background and the purple highlights with the dull colors is great\"\n",
      " '@BluesfestByron second artist announcement looking good #bluesfest2017 #blues #Music #byronbay'\n",
      " 'I can literally eat creamy pesto pasta topped with grilled chicken, sun dried tomatoes, asparagus and pine nuts every single day of my life']\n",
      "['joy' 'joy' 'joy' ... 'sadness' 'sadness' 'sadness']\n"
     ]
    }
   ],
   "source": [
    "# Wczytywanie danych\n",
    "\n",
    "def load_data(dataset):\n",
    "    data = pd.read_csv(dataset)\n",
    "    return data['text'].values, data['label'].values\n",
    "\n",
    "X_train, y_train = load_data('emotion-labels-train.csv')\n",
    "X_test, y_test = load_data('emotion-labels-test.csv')\n",
    "X_val, y_val = load_data('emotion-labels-val.csv')\n",
    "\n",
    "print(X_train)\n",
    "print(y_train)"
   ]
  },
  {
   "cell_type": "code",
   "execution_count": 20,
   "metadata": {},
   "outputs": [
    {
     "data": {
      "image/png": "[encoded data removed]",
      "text/plain": [
       "<Figure size 360x360 with 1 Axes>"
      ]
     },
     "metadata": {
      "needs_background": "light"
     },
     "output_type": "display_data"
    }
   ],
   "source": [
    "# Szybka analiza danych\n",
    "\n",
    "sns.displot(y_train)\n",
    "plt.title('Emotions')\n",
    "plt.show()\n"
   ]
  },
  {
   "attachments": {},
   "cell_type": "markdown",
   "metadata": {},
   "source": [
    "Zróbmy teraz szybki ML test kilku klasyfikatorów, i zobaczmy jaką accuracy dostaniemy."
   ]
  },
  {
   "cell_type": "code",
   "execution_count": 32,
   "metadata": {},
   "outputs": [],
   "source": [
    "def test_classifiers(classifiers, X, y):\n",
    "    best_classifier = None\n",
    "    best_score = 0\n",
    "    for _clf in classifiers:\n",
    "        try:\n",
    "            clf = sklearn.clone(_clf)\n",
    "            scores = cross_val_score(clf, X, y)\n",
    "\n",
    "            print('Using classifier:', clf)\n",
    "            print('\\tscores:', scores)\n",
    "            print('\\tbest:', np.max(scores))\n",
    "            print('\\taverage:', np.average(scores))\n",
    "\n",
    "            max_score = np.average(scores)\n",
    "            if max_score > best_score:\n",
    "                best_score = max_score\n",
    "                best_classifier = clf\n",
    "                \n",
    "        except Exception as e:\n",
    "            print('*** FAIL ***', _clf)\n",
    "            print(e)\n",
    "\n",
    "    print('Fitting best classifier')\n",
    "    best_classifier.fit(X, y)\n",
    "    y_pred = best_classifier.predict(X)\n",
    "\n",
    "    conf_matrix = confusion_matrix(y, y_pred, normalize='true')\n",
    "\n",
    "    plt.figure(figsize=(10, 6))\n",
    "    sns.heatmap(conf_matrix, annot=True, fmt='.5f')\n",
    "    plt.show()\n",
    "\n",
    "    return best_classifier, best_score\n"
   ]
  },
  {
   "cell_type": "code",
   "execution_count": 33,
   "metadata": {},
   "outputs": [
    {
     "name": "stdout",
     "output_type": "stream",
     "text": [
      "Just got back from seeing @GaryDelaney in Burslem. AMAZING!! Face still hurts from laughing so much #hilarious\n",
      "  (0, 4798)\t1\n",
      "  (0, 3769)\t1\n",
      "  (0, 842)\t1\n",
      "  (0, 3488)\t2\n",
      "  (0, 7917)\t1\n",
      "  (0, 3593)\t1\n",
      "  (0, 4383)\t1\n",
      "  (0, 1434)\t1\n",
      "  (0, 507)\t1\n",
      "  (0, 3093)\t1\n",
      "  (0, 8504)\t1\n",
      "  (0, 4271)\t1\n",
      "  (0, 5051)\t1\n",
      "  (0, 8264)\t1\n",
      "  (0, 5921)\t1\n",
      "  (0, 4114)\t1\n",
      "Using classifier: KNeighborsClassifier()\n",
      "\tscores: [0.36791148 0.3582296  0.41493776 0.39196676 0.36426593]\n",
      "\tbest: 0.4149377593360996\n",
      "\taverage: 0.37946230503097667\n",
      "Using classifier: LinearSVC(max_iter=10000, random_state=123)\n",
      "\tscores: [0.83679115 0.85477178 0.85338866 0.8365651  0.79916898]\n",
      "\tbest: 0.8547717842323651\n",
      "\taverage: 0.836137132523381\n",
      "Using classifier: RandomForestClassifier(n_jobs=8, random_state=123)\n",
      "\tscores: [0.84370678 0.85615491 0.83264177 0.81024931 0.77146814]\n",
      "\tbest: 0.8561549100968188\n",
      "\taverage: 0.8228441818676414\n",
      "Fitting best classifier\n"
     ]
    },
    {
     "data": {
      "image/png": "[encoded data removed]",
      "text/plain": [
       "<Figure size 720x432 with 2 Axes>"
      ]
     },
     "metadata": {
      "needs_background": "light"
     },
     "output_type": "display_data"
    },
    {
     "name": "stdout",
     "output_type": "stream",
     "text": [
      "Best classifier is: LinearSVC(max_iter=10000, random_state=123) 0.836137132523381\n"
     ]
    }
   ],
   "source": [
    "classifiers = [\n",
    "    KNeighborsClassifier(),\n",
    "    LinearSVC(max_iter=10000, random_state=random_state),\n",
    "    RandomForestClassifier(random_state=random_state, n_jobs=8),\n",
    "]\n",
    "prep_pipeline = Pipeline([\n",
    "    ('vectorizer', CountVectorizer())\n",
    "])\n",
    "\n",
    "X_train_transformed = prep_pipeline.fit_transform(X_train)\n",
    "print(X_train[0])\n",
    "print(X_train_transformed[0])\n",
    "\n",
    "best_clf, best_score = test_classifiers(classifiers, X_train_transformed, y_train)\n",
    "print('Best classifier is:', best_clf, best_score)"
   ]
  },
  {
   "attachments": {},
   "cell_type": "markdown",
   "metadata": {},
   "source": [
    "Zróbmy preprocessing - zmodyfikujmy tweet'y w następujący sposób:\n",
    "\n",
    "- Usunięcie tegów (@name)\n",
    "- Usunięcie zakodowanych wartości (np. &amp;).\n",
    "- Konwersja emoji na tokeny (są one dobrą reprezentacją tego emoji, ale są filtrowane przez tokenizer)."
   ]
  },
  {
   "cell_type": "code",
   "execution_count": 35,
   "metadata": {},
   "outputs": [
    {
     "name": "stdout",
     "output_type": "stream",
     "text": [
      "['Just got back from seeing  in Burslem. AMAZING!! Face still hurts from laughing so much #hilarious'\n",
      " \"Oh dear an evening of absolute hilarity I don't think I have laughed so much in a long time! 😂\"\n",
      " 'Been waiting all week for this game ❤️❤️❤️ #cheer #friday ❤️'\n",
      " \" : Thank you so much, Gloria! You're so sweet, and thoughtful! You just made my day more joyful! I love you too! 😊💕\"\n",
      " 'I feel so blessed to work with the family that I nanny for ❤️ nothing but love &amp; appreciation, makes me smile.'\n",
      " 'Today I reached 1000 subscribers on YT!! , #goodday, #thankful'\n",
      " \" Good morning, love! Happy first day of fall. Let's make some awesome #autumnmemories #annabailey #laughter #smile\"\n",
      " \"#BridgetJonesBaby is the best thing I've seen in ages! So funny, I've missed Bridget! #love  #TeamMark\"\n",
      " 'Just got back from seeing  in Burslem. AMAZING!! Face still hurts from laughing so much '\n",
      " ' I thought the holidays could not get any more cheerful, and then I met you. #TheNiceBot']\n"
     ]
    }
   ],
   "source": [
    "class RemoveTags(TransformerMixin, BaseEstimator):\n",
    "    def fit(self, X, y=None):\n",
    "        return self\n",
    "\n",
    "    def transform(self, X):\n",
    "        values = pd.Series(X)\n",
    "        return values.replace(r'@\\w+', '', regex=True).values\n",
    "\n",
    "remove_tags = RemoveTags()\n",
    "print(remove_tags.fit_transform(X_train[:10]))"
   ]
  },
  {
   "cell_type": "code",
   "execution_count": 39,
   "metadata": {},
   "outputs": [
    {
     "name": "stdout",
     "output_type": "stream",
     "text": [
      "['Just got back from seeing @GaryDelaney in Burslem. AMAZING!! Face still hurts from laughing so much #hilarious'\n",
      " \"Oh dear an evening of absolute hilarity I don't think I have laughed so much in a long time! 😂\"\n",
      " 'Been waiting all week for this game ❤️❤️❤️ #cheer #friday ❤️'\n",
      " \"@gardiner_love : Thank you so much, Gloria! You're so sweet, and thoughtful! You just made my day more joyful! I love you too! 😊💕\"\n",
      " 'I feel so blessed to work with the family that I nanny for ❤️ nothing but love  appreciation, makes me smile.'\n",
      " 'Today I reached 1000 subscribers on YT!! , #goodday, #thankful'\n",
      " \"@Singaholic121 Good morning, love! Happy first day of fall. Let's make some awesome #autumnmemories #annabailey #laughter #smile\"\n",
      " \"#BridgetJonesBaby is the best thing I've seen in ages! So funny, I've missed Bridget! #love  #TeamMark\"\n",
      " 'Just got back from seeing @GaryDelaney in Burslem. AMAZING!! Face still hurts from laughing so much '\n",
      " '@IndyMN I thought the holidays could not get any more cheerful, and then I met you. #TheNiceBot']\n"
     ]
    }
   ],
   "source": [
    "class RemoveCodedValues(TransformerMixin, BaseEstimator):\n",
    "    def fit(self, X, y=None):\n",
    "        return self\n",
    "\n",
    "    def transform(self, X):\n",
    "        values = pd.Series(X)\n",
    "        return values.replace(r'&\\w+;', '', regex=True).values\n",
    "\n",
    "remove_coded_values = RemoveCodedValues()\n",
    "\n",
    "pat = re.compile(r'&\\w+;')\n",
    "\n",
    "print(remove_coded_values.fit_transform(X_train[:10]))"
   ]
  },
  {
   "cell_type": "code",
   "execution_count": 41,
   "metadata": {},
   "outputs": [
    {
     "data": {
      "text/html": [
       "<style>#sk-container-id-1 {color: black;background-color: white;}#sk-container-id-1 pre{padding: 0;}#sk-container-id-1 div.sk-toggleable {background-color: white;}#sk-container-id-1 label.sk-toggleable__label {cursor: pointer;display: block;width: 100%;margin-bottom: 0;padding: 0.3em;box-sizing: border-box;text-align: center;}#sk-container-id-1 label.sk-toggleable__label-arrow:before {content: \"▸\";float: left;margin-right: 0.25em;color: #696969;}#sk-container-id-1 label.sk-toggleable__label-arrow:hover:before {color: black;}#sk-container-id-1 div.sk-estimator:hover label.sk-toggleable__label-arrow:before {color: black;}#sk-container-id-1 div.sk-toggleable__content {max-height: 0;max-width: 0;overflow: hidden;text-align: left;background-color: #f0f8ff;}#sk-container-id-1 div.sk-toggleable__content pre {margin: 0.2em;color: black;border-radius: 0.25em;background-color: #f0f8ff;}#sk-container-id-1 input.sk-toggleable__control:checked~div.sk-toggleable__content {max-height: 200px;max-width: 100%;overflow: auto;}#sk-container-id-1 input.sk-toggleable__control:checked~label.sk-toggleable__label-arrow:before {content: \"▾\";}#sk-container-id-1 div.sk-estimator input.sk-toggleable__control:checked~label.sk-toggleable__label {background-color: #d4ebff;}#sk-container-id-1 div.sk-label input.sk-toggleable__control:checked~label.sk-toggleable__label {background-color: #d4ebff;}#sk-container-id-1 input.sk-hidden--visually {border: 0;clip: rect(1px 1px 1px 1px);clip: rect(1px, 1px, 1px, 1px);height: 1px;margin: -1px;overflow: hidden;padding: 0;position: absolute;width: 1px;}#sk-container-id-1 div.sk-estimator {font-family: monospace;background-color: #f0f8ff;border: 1px dotted black;border-radius: 0.25em;box-sizing: border-box;margin-bottom: 0.5em;}#sk-container-id-1 div.sk-estimator:hover {background-color: #d4ebff;}#sk-container-id-1 div.sk-parallel-item::after {content: \"\";width: 100%;border-bottom: 1px solid gray;flex-grow: 1;}#sk-container-id-1 div.sk-label:hover label.sk-toggleable__label {background-color: #d4ebff;}#sk-container-id-1 div.sk-serial::before {content: \"\";position: absolute;border-left: 1px solid gray;box-sizing: border-box;top: 0;bottom: 0;left: 50%;z-index: 0;}#sk-container-id-1 div.sk-serial {display: flex;flex-direction: column;align-items: center;background-color: white;padding-right: 0.2em;padding-left: 0.2em;position: relative;}#sk-container-id-1 div.sk-item {position: relative;z-index: 1;}#sk-container-id-1 div.sk-parallel {display: flex;align-items: stretch;justify-content: center;background-color: white;position: relative;}#sk-container-id-1 div.sk-item::before, #sk-container-id-1 div.sk-parallel-item::before {content: \"\";position: absolute;border-left: 1px solid gray;box-sizing: border-box;top: 0;bottom: 0;left: 50%;z-index: -1;}#sk-container-id-1 div.sk-parallel-item {display: flex;flex-direction: column;z-index: 1;position: relative;background-color: white;}#sk-container-id-1 div.sk-parallel-item:first-child::after {align-self: flex-end;width: 50%;}#sk-container-id-1 div.sk-parallel-item:last-child::after {align-self: flex-start;width: 50%;}#sk-container-id-1 div.sk-parallel-item:only-child::after {width: 0;}#sk-container-id-1 div.sk-dashed-wrapped {border: 1px dashed gray;margin: 0 0.4em 0.5em 0.4em;box-sizing: border-box;padding-bottom: 0.4em;background-color: white;}#sk-container-id-1 div.sk-label label {font-family: monospace;font-weight: bold;display: inline-block;line-height: 1.2em;}#sk-container-id-1 div.sk-label-container {text-align: center;}#sk-container-id-1 div.sk-container {/* jupyter's `normalize.less` sets `[hidden] { display: none; }` but bootstrap.min.css set `[hidden] { display: none !important; }` so we also need the `!important` here to be able to override the default hidden behavior on the sphinx rendered scikit-learn.org. See: https://github.com/scikit-learn/scikit-learn/issues/21755 */display: inline-block !important;position: relative;}#sk-container-id-1 div.sk-text-repr-fallback {display: none;}</style><div id=\"sk-container-id-1\" class=\"sk-top-container\"><div class=\"sk-text-repr-fallback\"><pre>CountVectorizer()</pre><b>In a Jupyter environment, please rerun this cell to show the HTML representation or trust the notebook. <br />On GitHub, the HTML representation is unable to render, please try loading this page with nbviewer.org.</b></div><div class=\"sk-container\" hidden><div class=\"sk-item\"><div class=\"sk-estimator sk-toggleable\"><input class=\"sk-toggleable__control sk-hidden--visually\" id=\"sk-estimator-id-1\" type=\"checkbox\" checked><label for=\"sk-estimator-id-1\" class=\"sk-toggleable__label sk-toggleable__label-arrow\">CountVectorizer</label><div class=\"sk-toggleable__content\"><pre>CountVectorizer()</pre></div></div></div></div></div>"
      ],
      "text/plain": [
       "CountVectorizer()"
      ]
     },
     "execution_count": 41,
     "metadata": {},
     "output_type": "execute_result"
    }
   ],
   "source": [
    "class TokenizeEmoji(TransformerMixin, BaseEstimator):\n",
    "    def fit(self, X, y=None):\n",
    "        return self\n",
    "\n",
    "    def transform(self, X):\n",
    "        return np.array([emoji.demojize(text) for text in X])\n",
    "\n",
    "vectorizer = CountVectorizer()\n",
    "tokenize_emoji = TokenizeEmoji()\n",
    "test = tokenize_emoji.fit_transform(X_train[:10])\n",
    "\n",
    "vectorizer.fit(test)\n"
   ]
  },
  {
   "attachments": {},
   "cell_type": "markdown",
   "metadata": {},
   "source": [
    "Testing pipeline with new changes"
   ]
  },
  {
   "attachments": {},
   "cell_type": "markdown",
   "metadata": {},
   "source": []
  },
  {
   "cell_type": "code",
   "execution_count": 46,
   "metadata": {},
   "outputs": [
    {
     "name": "stdout",
     "output_type": "stream",
     "text": [
      "Using classifier: KNeighborsClassifier()\n",
      "\tscores: [0.39142462 0.40387275 0.43430152 0.36842105 0.3601108 ]\n",
      "\tbest: 0.4343015214384509\n",
      "\taverage: 0.3916261498909974\n",
      "Using classifier: LinearSVC(max_iter=10000, random_state=123)\n",
      "\tscores: [0.83264177 0.86168741 0.84232365 0.82963989 0.77839335]\n",
      "\tbest: 0.8616874135546335\n",
      "\taverage: 0.8289372152810506\n",
      "Using classifier: RandomForestClassifier(n_jobs=8, random_state=123)\n",
      "\tscores: [0.83817427 0.86721992 0.83540802 0.82132964 0.79085873]\n",
      "\tbest: 0.8672199170124482\n",
      "\taverage: 0.8305981157304705\n",
      "Fitting best classifier\n"
     ]
    },
    {
     "data": {
      "image/png": "[encoded data removed]",
      "text/plain": [
       "<Figure size 720x432 with 2 Axes>"
      ]
     },
     "metadata": {
      "needs_background": "light"
     },
     "output_type": "display_data"
    }
   ],
   "source": [
    "pipeline = Pipeline([\n",
    "    ('handles', RemoveTags()),\n",
    "    ('coded', RemoveCodedValues()),\n",
    "    ('emoji', TokenizeEmoji()),\n",
    "    ('counts', CountVectorizer())\n",
    "])\n",
    "\n",
    "prepared_X_train = pipeline.fit_transform(X_train)\n",
    "\n",
    "best_clf, score = test_classifiers(classifiers, prepared_X_train, y_train)"
   ]
  },
  {
   "cell_type": "code",
   "execution_count": 49,
   "metadata": {},
   "outputs": [
    {
     "name": "stdout",
     "output_type": "stream",
     "text": [
      "Predicted Emotion: fear\n"
     ]
    }
   ],
   "source": [
    "def predict_emotion(text, classifier, pipeline):\n",
    "    preprocessed_text = pipeline.transform([text])\n",
    "    emotion = classifier.predict(preprocessed_text)[0]\n",
    "    return emotion\n",
    "\n",
    "# Example usage\n",
    "text = \"I'd love to see you again!\"\n",
    "predicted_emotion = predict_emotion(text, best_clf, pipeline)\n",
    "print(\"Predicted Emotion:\", predicted_emotion)\n"
   ]
  }
 ],
 "metadata": {
  "kernelspec": {
   "display_name": "Python 3",
   "language": "python",
   "name": "python3"
  },
  "language_info": {
   "codemirror_mode": {
    "name": "ipython",
    "version": 3
   },
   "file_extension": ".py",
   "mimetype": "text/x-python",
   "name": "python",
   "nbconvert_exporter": "python",
   "pygments_lexer": "ipython3",
   "version": "3.10.4"
  },
  "orig_nbformat": 4
 },
 "nbformat": 4,
 "nbformat_minor": 2
}
